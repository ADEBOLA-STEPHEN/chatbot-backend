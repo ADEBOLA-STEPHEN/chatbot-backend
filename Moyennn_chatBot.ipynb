{
 "cells": [
  {
   "cell_type": "code",
   "execution_count": 4,
   "id": "1981ddcf-b3ce-4645-9c2f-0f8ad5c3a507",
   "metadata": {},
   "outputs": [
    {
     "name": "stdout",
     "output_type": "stream",
     "text": [
      "Requirement already satisfied: scikit-learn in c:\\users\\user\\appdata\\local\\programs\\python\\python313\\lib\\site-packages (1.7.1)\n",
      "Requirement already satisfied: requests in c:\\users\\user\\appdata\\local\\programs\\python\\python313\\lib\\site-packages (2.32.3)\n",
      "Requirement already satisfied: tzdata in c:\\users\\user\\appdata\\local\\programs\\python\\python313\\lib\\site-packages (2025.2)\n",
      "Requirement already satisfied: numpy>=1.22.0 in c:\\users\\user\\appdata\\local\\programs\\python\\python313\\lib\\site-packages (from scikit-learn) (2.3.2)\n",
      "Requirement already satisfied: scipy>=1.8.0 in c:\\users\\user\\appdata\\local\\programs\\python\\python313\\lib\\site-packages (from scikit-learn) (1.16.1)\n",
      "Requirement already satisfied: joblib>=1.2.0 in c:\\users\\user\\appdata\\local\\programs\\python\\python313\\lib\\site-packages (from scikit-learn) (1.5.2)\n",
      "Requirement already satisfied: threadpoolctl>=3.1.0 in c:\\users\\user\\appdata\\local\\programs\\python\\python313\\lib\\site-packages (from scikit-learn) (3.6.0)\n",
      "Requirement already satisfied: charset-normalizer<4,>=2 in c:\\users\\user\\appdata\\local\\programs\\python\\python313\\lib\\site-packages (from requests) (3.4.2)\n",
      "Requirement already satisfied: idna<4,>=2.5 in c:\\users\\user\\appdata\\local\\programs\\python\\python313\\lib\\site-packages (from requests) (3.10)\n",
      "Requirement already satisfied: urllib3<3,>=1.21.1 in c:\\users\\user\\appdata\\local\\programs\\python\\python313\\lib\\site-packages (from requests) (2.4.0)\n",
      "Requirement already satisfied: certifi>=2017.4.17 in c:\\users\\user\\appdata\\local\\programs\\python\\python313\\lib\\site-packages (from requests) (2025.4.26)\n"
     ]
    }
   ],
   "source": [
    "!pip install scikit-learn requests tzdata"
   ]
  },
  {
   "cell_type": "code",
   "execution_count": 5,
   "id": "ab6c1014-3e94-4c86-a223-8ea8ff8b10a2",
   "metadata": {},
   "outputs": [
    {
     "name": "stdout",
     "output_type": "stream",
     "text": [
      "Requirement already satisfied: requests in c:\\users\\user\\appdata\\local\\programs\\python\\python313\\lib\\site-packages (2.32.3)\n",
      "Requirement already satisfied: charset-normalizer<4,>=2 in c:\\users\\user\\appdata\\local\\programs\\python\\python313\\lib\\site-packages (from requests) (3.4.2)\n",
      "Requirement already satisfied: idna<4,>=2.5 in c:\\users\\user\\appdata\\local\\programs\\python\\python313\\lib\\site-packages (from requests) (3.10)\n",
      "Requirement already satisfied: urllib3<3,>=1.21.1 in c:\\users\\user\\appdata\\local\\programs\\python\\python313\\lib\\site-packages (from requests) (2.4.0)\n",
      "Requirement already satisfied: certifi>=2017.4.17 in c:\\users\\user\\appdata\\local\\programs\\python\\python313\\lib\\site-packages (from requests) (2025.4.26)\n",
      "Note: you may need to restart the kernel to use updated packages.\n"
     ]
    }
   ],
   "source": [
    "pip install requests"
   ]
  },
  {
   "cell_type": "code",
   "execution_count": 2,
   "id": "528f981b-8360-48cd-a400-4b357f3931d5",
   "metadata": {},
   "outputs": [],
   "source": [
    "import random\n",
    "import re\n",
    "import json\n",
    "import pickle\n",
    "import requests\n",
    "from sklearn.feature_extraction.text import CountVectorizer\n",
    "from sklearn.svm import LinearSVC\n",
    "from sklearn.naive_bayes import MultinomialNB \n",
    "from datetime import datetime\n",
    "from typing import List"
   ]
  },
  {
   "cell_type": "code",
   "execution_count": 3,
   "id": "03560457-7404-4d99-af4b-3fca36b53497",
   "metadata": {},
   "outputs": [],
   "source": [
    "intents = {\n",
    "    \"intents\": [\n",
    "        {\n",
    "            \"tag\": \"greeting\",\n",
    "            \"patterns\": [\"Hi\",\"Hello\",\"Hey\",\"Good morning\",\"Good evening\",\n",
    "                         \"What's up?\",\"How are you?\",\"Greetings\",\"Yo\",\"Hey there\",\"How are you doing today?\"],\n",
    "            \"responses\": [\"Hello! 👋\",\"Hey there!\",\"Hi, nice to meet you 😊\",\n",
    "                          \"Greetings!\",\"What's up?\",\"How's your day going?\",\"I'm doing great, how about you?\"]\n",
    "        },\n",
    "        {\n",
    "            \"tag\": \"name\",\n",
    "            \"patterns\": [\"What's your name?\",\"What moniker what given to you by your creator?\",\"Tell me your name\",\n",
    "                         \"Do you have a name?\",\"May I know your name?\",\n",
    "                         \"What should I call you?\",\"Are you a bot?\",\n",
    "                         \"Introduce yourself\",\"Name please\",\"Tell me who you are\"],\n",
    "            \"responses\": [\"I'm your friendly Moyennn!\",\"They call me Moyennn!\",\n",
    "                          \"I'm an AI assistant called Moyennn\",\"Just a humble bot here to help 😊\"]\n",
    "        },\n",
    "        {\n",
    "            \"tag\": \"time\",\n",
    "            \"patterns\": [\"What time is it?\",\"Tell me the time\",\"Current time?\",\n",
    "                         \"Can you give me the time?\",\"Clock please\",\n",
    "                         \"What's the hour?\",\"Time right now?\",\n",
    "                         \"Tell me the hour\",\"Give me the time\",\"Local time please\"],\n",
    "            \"responses\": []\n",
    "        },\n",
    "        {\n",
    "            \"tag\": \"weather\",\n",
    "            \"patterns\": [\"What's the weather?\",\"Weather today?\",\"Is it hot outside?\",\n",
    "                         \"Tell me the forecast\",\"Do I need an umbrella?\",\n",
    "                         \"What's the temperature?\",\"How's the sky?\",\n",
    "                         \"Weather in Lagos\",\"Forecast please\",\"Sunny today?\",\"Weather in Akure\"],\n",
    "            \"responses\": []\n",
    "        }\n",
    "    ]\n",
    "}\n"
   ]
  },
  {
   "cell_type": "code",
   "execution_count": 4,
   "id": "1aa86b16-7fa7-4065-9a4c-f81b1424c93d",
   "metadata": {},
   "outputs": [
    {
     "name": "stdout",
     "output_type": "stream",
     "text": [
      "Model trained successfully✅\n"
     ]
    }
   ],
   "source": [
    "X = []\n",
    "y = []\n",
    "\n",
    "for intent in intents[\"intents\"]:\n",
    "    for pattern in intent[\"patterns\"]:\n",
    "        X.append(pattern)\n",
    "        y.append(intent[\"tag\"])\n",
    "\n",
    "# Vectorize\n",
    "vectorizer = CountVectorizer()\n",
    "X_train = vectorizer.fit_transform(X)\n",
    "\n",
    "# Training model\n",
    "model = MultinomialNB()\n",
    "model.fit(X_train, y)\n",
    "\n",
    "print(\"Model trained successfully✅\")\n"
   ]
  },
  {
   "cell_type": "code",
   "execution_count": 5,
   "id": "31925cc2-2406-43bd-b52b-653e7df655c4",
   "metadata": {},
   "outputs": [],
   "source": [
    "API_KEY = \"8a611495b6b56f082f045d2ffed3389c\"\n",
    "\n",
    "def get_weather(user_input, default_city=\"Lagos\"):\n",
    "    # extract city from user input\n",
    "    match = re.search(r'weather in (\\w+)', user_input.lower())\n",
    "    city = match.group(1).capitalize() if match else default_city\n",
    "    \n",
    "    url = f\"http://api.openweathermap.org/data/2.5/weather?q={city},NG&appid={API_KEY}&units=metric\"\n",
    "    response = requests.get(url)\n",
    "    \n",
    "    if response.status_code == 200:\n",
    "        data = response.json()\n",
    "        temp = data[\"main\"][\"temp\"]\n",
    "        desc = data[\"weather\"][0][\"description\"]\n",
    "        return f\"The weather in {city} is {desc} with {temp}°C 🌤️\"\n",
    "    else:\n",
    "        return f\"Sorry, I couldn’t fetch the weather for {city} 🌧️\""
   ]
  },
  {
   "cell_type": "code",
   "execution_count": 26,
   "id": "9366d426-ad68-476f-a214-4a447fd90f6a",
   "metadata": {},
   "outputs": [],
   "source": [
    "# Track the last conversation intent\n",
    "last_intent = None  \n",
    "\n",
    "def chatbot_response(user_input):\n",
    "    global last_intent  \n",
    "    responses = []\n",
    "    answered_intents = set()\n",
    "\n",
    "    # Split into smaller queries using punctuation and \"and\"\n",
    "    parts = re.split(r'\\s*(?:\\?|\\.|!|,|\\band\\b)\\s*', user_input, flags=re.IGNORECASE)\n",
    "    parts = [p.strip() for p in parts if p.strip()]\n",
    "\n",
    "    context_triggered = False\n",
    "\n",
    "    for part in parts:\n",
    "        #logic to ignore all other context if one response has been handled\n",
    "        if context_triggered:\n",
    "            continue\n",
    "\n",
    "        X_test = vectorizer.transform([part])\n",
    "        tag = model.predict(X_test)[0]\n",
    "\n",
    "        #Contextual Conversation Logic\n",
    "        if last_intent == \"greeting\" and (\"fine\" in part.lower() or \"good\" in part.lower()):\n",
    "            responses.append(\"I’m fine too! 😊 So, what can I do for you today?\")\n",
    "            last_intent = \"smalltalk\"\n",
    "            context_triggered = True\n",
    "            continue\n",
    "       #to remove duplicate responses for the same intent\n",
    "        if tag in answered_intents:\n",
    "                continue\n",
    "\n",
    "        #Normal Intent Handling\n",
    "        if tag == \"time\":\n",
    "            now = datetime.now()\n",
    "            responses.append(f\"The current time is {now.strftime('%H:%M:%S')} ⏰\")\n",
    "        \n",
    "        elif tag == \"weather\":\n",
    "            responses.append(get_weather(part))\n",
    "        \n",
    "        else:\n",
    "            for intent in intents[\"intents\"]:\n",
    "                if intent[\"tag\"] == tag:\n",
    "                    if intent[\"responses\"]:\n",
    "                        # Greeting special case\n",
    "                        if tag == \"greeting\":\n",
    "                            responses.append(\"Hello! How are you doing today? \")\n",
    "                        else:\n",
    "                            responses.append(random.choice(intent[\"responses\"]))\n",
    "                        last_intent = tag\n",
    "                        answered_intents.add(tag) # mark as answered\n",
    "                    else:\n",
    "                        responses.append(\"Hmm...\")\n",
    "\n",
    "    return \" \".join(responses)\n"
   ]
  },
  {
   "cell_type": "code",
   "execution_count": 32,
   "id": "b9f9074f-3dc1-4337-8277-71fc2fec4d28",
   "metadata": {},
   "outputs": [],
   "source": [
    "import pickle\n",
    "\n",
    "\n",
    "with open(\"model.pkl\", \"wb\") as f:\n",
    "    pickle.dump(model, f)\n",
    "\n",
    "with open(\"vectorizer.pkl\", \"wb\") as f:\n",
    "    pickle.dump(vectorizer, f)\n"
   ]
  },
  {
   "cell_type": "code",
   "execution_count": 27,
   "id": "ef0ce0aa-75d7-441f-86c4-3409fa67ffff",
   "metadata": {},
   "outputs": [
    {
     "name": "stdout",
     "output_type": "stream",
     "text": [
      "The weather in Akure is overcast clouds with 25.56°C 🌤️ The current time is 12:19:35 ⏰\n"
     ]
    }
   ],
   "source": [
    "print(chatbot_response(\"the weather in Akure at the momment and what time is it?\"))"
   ]
  },
  {
   "cell_type": "code",
   "execution_count": 28,
   "id": "b1893953-d3d0-4d5d-9128-2eee0ea54e5e",
   "metadata": {},
   "outputs": [
    {
     "name": "stdout",
     "output_type": "stream",
     "text": [
      "Hello! How are you doing today? \n"
     ]
    }
   ],
   "source": [
    "print(chatbot_response(\"Hi, how are you?\"))"
   ]
  },
  {
   "cell_type": "code",
   "execution_count": 29,
   "id": "f815dccd-8b65-49eb-9796-e1abf4dcf5d1",
   "metadata": {},
   "outputs": [
    {
     "name": "stdout",
     "output_type": "stream",
     "text": [
      "I’m fine too! 😊 So, what can I do for you today?\n"
     ]
    }
   ],
   "source": [
    "print(chatbot_response(\"I'm fine thank you and you?\"))"
   ]
  },
  {
   "cell_type": "code",
   "execution_count": null,
   "id": "e7666f32-ffdd-4888-849c-3989eb4727e3",
   "metadata": {},
   "outputs": [],
   "source": []
  }
 ],
 "metadata": {
  "kernelspec": {
   "display_name": "Python 3 (ipykernel)",
   "language": "python",
   "name": "python3"
  },
  "language_info": {
   "codemirror_mode": {
    "name": "ipython",
    "version": 3
   },
   "file_extension": ".py",
   "mimetype": "text/x-python",
   "name": "python",
   "nbconvert_exporter": "python",
   "pygments_lexer": "ipython3",
   "version": "3.13.3"
  }
 },
 "nbformat": 4,
 "nbformat_minor": 5
}
